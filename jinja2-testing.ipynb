{
 "cells": [
  {
   "cell_type": "code",
   "execution_count": 1,
   "id": "81ef3b57-9e18-469b-8eb1-194939349eb0",
   "metadata": {},
   "outputs": [
    {
     "data": {
      "text/plain": [
       "['python3',\n",
       " 'main.py',\n",
       " '--staging-schema',\n",
       " 'STAGE',\n",
       " '--staging-object',\n",
       " 'ST_D_ODD_CASHOUT_ELIGIBILITY_INSERT',\n",
       " '--target-schema',\n",
       " 'SBT_MAIN',\n",
       " '--target-object',\n",
       " 'D_ODD_CASHOUT_ELIGIBILITY',\n",
       " '--valid-from-beginning',\n",
       " '0',\n",
       " '--execution-date',\n",
       " '{{ ts }}',\n",
       " '--cmd',\n",
       " \"select count(*),{{ti.xcom_pull('write-xcom')['count']}} from ODS_NSOFT.PRODUCTS where ins_timestamp < date('{{ti.xcom_pull(task_ids='var_ts')['ts']}}');\",\n",
       " '--arbitrary-args',\n",
       " 'START_DATE={{(execution_date + macros.dateutil.relativedelta.relativedelta(days=+1)).replace(day=1, hour=10, minute=0, second =0, microsecond = 0)}}',\n",
       " '--script-name',\n",
       " 'tran-dwh-offer-dimensions_scd-group-tran-dwh-offer-dimensions_{{',\n",
       " 'execution_date',\n",
       " '}}.sql']"
      ]
     },
     "execution_count": 1,
     "metadata": {},
     "output_type": "execute_result"
    }
   ],
   "source": [
    "import shlex\n",
    "from typing import List\n",
    "import json\n",
    "\n",
    "args = {\n",
    "    \"--staging-schema\": \"STAGE\",\n",
    "    \"--staging-object\": \"ST_D_ODD_CASHOUT_ELIGIBILITY_INSERT\",\n",
    "    \"--target-schema\": \"SBT_MAIN\",\n",
    "    \"--target-object\": \"D_ODD_CASHOUT_ELIGIBILITY\",\n",
    "    \"--valid-from-beginning\": 0,\n",
    "    \"--execution-date\": '\\'{{ ts }}\\'',\n",
    "'--cmd': \"\\\"select count(*),{{ti.xcom_pull('write-xcom')['count']}} from ODS_NSOFT.PRODUCTS where ins_timestamp < date('{{ti.xcom_pull(task_ids='var_ts')['ts']}}');\\\"\",\n",
    "'--arbitrary-args' : \"\\\"START_DATE={{(execution_date + macros.dateutil.relativedelta.relativedelta(days=+1)).replace(day=1, hour=10, minute=0, second =0, microsecond = 0)}}\\\"\"\n",
    "    }\n",
    "script_name = \"{}_{}_{}.sql\".format(\n",
    "    \"tran-dwh-offer-dimensions\", \"scd-group-tran-dwh-offer-dimensions\", \"{{ execution_date }}\"\n",
    ")\n",
    "scd_params = dict(args)\n",
    "scd_params[\"--script-name\"] = script_name\n",
    "\n",
    "def get(exec_cmd) -> List[str]:\n",
    "    return exec_cmd + args_to_list(scd_params)\n",
    "\n",
    "\n",
    "def args_to_list(args) -> List[str]:\n",
    "    args_to_str = \" \".join([f\"{k} {v}\" for k, v in scd_params.items()])\n",
    "    return shlex.split(args_to_str)\n",
    "\n",
    "\n",
    "cmds = get([\"python3\", \"main.py\"])\n",
    "\n",
    "cmds"
   ]
  },
  {
   "cell_type": "code",
   "execution_count": null,
   "id": "acc3fa6f-4eb3-4949-8a46-4da5fc843ba0",
   "metadata": {},
   "outputs": [],
   "source": []
  }
 ],
 "metadata": {
  "kernelspec": {
   "display_name": "Python 3 (ipykernel)",
   "language": "python",
   "name": "python3"
  },
  "language_info": {
   "codemirror_mode": {
    "name": "ipython",
    "version": 3
   },
   "file_extension": ".py",
   "mimetype": "text/x-python",
   "name": "python",
   "nbconvert_exporter": "python",
   "pygments_lexer": "ipython3",
   "version": "3.7.12"
  }
 },
 "nbformat": 4,
 "nbformat_minor": 5
}
